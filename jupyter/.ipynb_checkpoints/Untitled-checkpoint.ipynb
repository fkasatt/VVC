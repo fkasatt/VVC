{
 "cells": [
  {
   "cell_type": "code",
   "execution_count": 1,
   "id": "f8e23e19-5d27-4b3f-b32e-3e0c282462bd",
   "metadata": {
    "collapsed": true,
    "jupyter": {
     "outputs_hidden": true
    }
   },
   "outputs": [
    {
     "name": "stdout",
     "output_type": "stream",
     "text": [
      "Requirement already satisfied: scikit-learn in /opt/conda/lib/python3.11/site-packages (1.3.2)\n",
      "Requirement already satisfied: numpy in /opt/conda/lib/python3.11/site-packages (1.26.2)\n",
      "Requirement already satisfied: pandas in /opt/conda/lib/python3.11/site-packages (2.1.4)\n",
      "Requirement already satisfied: scipy>=1.5.0 in /opt/conda/lib/python3.11/site-packages (from scikit-learn) (1.11.4)\n",
      "Requirement already satisfied: joblib>=1.1.1 in /opt/conda/lib/python3.11/site-packages (from scikit-learn) (1.3.2)\n",
      "Requirement already satisfied: threadpoolctl>=2.0.0 in /opt/conda/lib/python3.11/site-packages (from scikit-learn) (3.2.0)\n",
      "Requirement already satisfied: python-dateutil>=2.8.2 in /opt/conda/lib/python3.11/site-packages (from pandas) (2.8.2)\n",
      "Requirement already satisfied: pytz>=2020.1 in /opt/conda/lib/python3.11/site-packages (from pandas) (2023.3.post1)\n",
      "Requirement already satisfied: tzdata>=2022.1 in /opt/conda/lib/python3.11/site-packages (from pandas) (2023.3)\n",
      "Requirement already satisfied: six>=1.5 in /opt/conda/lib/python3.11/site-packages (from python-dateutil>=2.8.2->pandas) (1.16.0)\n",
      "Note: you may need to restart the kernel to use updated packages.\n"
     ]
    }
   ],
   "source": [
    "pip install scikit-learn numpy pandas"
   ]
  },
  {
   "cell_type": "code",
   "execution_count": 9,
   "id": "6f00baf3-367a-436f-b41c-ed1d6cf30f9a",
   "metadata": {},
   "outputs": [
    {
     "name": "stdout",
     "output_type": "stream",
     "text": [
      "精度: 1.0\n",
      "分類: [1 0 2 1 1 0 1 2 1 1 2 0 0 0 0 1 2 1 1 2 0 2 0 2 2 2 2 2 0 0]\n"
     ]
    }
   ],
   "source": [
    "from sklearn import datasets\n",
    "from sklearn.model_selection import train_test_split\n",
    "from sklearn.neural_network import MLPClassifier\n",
    "\n",
    "iris = datasets.load_iris()\n",
    "data_train, data_test, target_train, target_test = train_test_split(iris.data, iris.target, random_state=42, test_size=0.2)\n",
    "\n",
    "clf = MLPClassifier(max_iter=1000, random_state=42)\n",
    "clf.fit(data_train, target_train)\n",
    "\n",
    "score = clf.score(data_test, target_test)\n",
    "print(f\"精度: {score}\")\n",
    "predictions = clf.predict(data_test)\n",
    "print(f\"分類: {predictions}\")"
   ]
  },
  {
   "cell_type": "code",
   "execution_count": 16,
   "id": "060578ca-da0d-4a1f-9c24-055876364265",
   "metadata": {},
   "outputs": [
    {
     "name": "stdout",
     "output_type": "stream",
     "text": [
      "精度: 0.9833333333333333\n",
      "分類: [1 0 2 1 1 0 1 2 1 1 2 0 0 0 0 1 2 1 1 2 0 2 0 2 2 2 2 2 0 0 0 0 1 0 0 2 1\n",
      " 0 0 0 2 1 1 0 0 1 1 2 1 2 1 2 1 0 2 1 0 0 0 1]\n"
     ]
    }
   ],
   "source": [
    "from sklearn import datasets\n",
    "from sklearn.model_selection import train_test_split\n",
    "from sklearn.neural_network import MLPClassifier\n",
    "\n",
    "iris = datasets.load_iris()\n",
    "data_train, data_test, target_train, target_test = train_test_split(iris.data, iris.target, random_state=42, test_size=0.4)\n",
    "\n",
    "clf = MLPClassifier(max_iter=1000, random_state=42)\n",
    "clf.fit(data_train, target_train)\n",
    "\n",
    "score = clf.score(data_test, target_test)\n",
    "print(f\"精度: {score}\")\n",
    "predictions = clf.predict(data_test)\n",
    "print(f\"分類: {predictions}\")"
   ]
  },
  {
   "cell_type": "code",
   "execution_count": 17,
   "id": "b1aff2c9-6a24-4777-bac2-d49b779faca8",
   "metadata": {},
   "outputs": [
    {
     "name": "stdout",
     "output_type": "stream",
     "text": [
      "Requirement already satisfied: matplotlib in /opt/conda/lib/python3.11/site-packages (3.8.2)\n",
      "Requirement already satisfied: contourpy>=1.0.1 in /opt/conda/lib/python3.11/site-packages (from matplotlib) (1.2.0)\n",
      "Requirement already satisfied: cycler>=0.10 in /opt/conda/lib/python3.11/site-packages (from matplotlib) (0.12.1)\n",
      "Requirement already satisfied: fonttools>=4.22.0 in /opt/conda/lib/python3.11/site-packages (from matplotlib) (4.47.0)\n",
      "Requirement already satisfied: kiwisolver>=1.3.1 in /opt/conda/lib/python3.11/site-packages (from matplotlib) (1.4.5)\n",
      "Requirement already satisfied: numpy<2,>=1.21 in /opt/conda/lib/python3.11/site-packages (from matplotlib) (1.26.2)\n",
      "Requirement already satisfied: packaging>=20.0 in /opt/conda/lib/python3.11/site-packages (from matplotlib) (23.2)\n",
      "Requirement already satisfied: pillow>=8 in /opt/conda/lib/python3.11/site-packages (from matplotlib) (10.1.0)\n",
      "Requirement already satisfied: pyparsing>=2.3.1 in /opt/conda/lib/python3.11/site-packages (from matplotlib) (3.1.1)\n",
      "Requirement already satisfied: python-dateutil>=2.7 in /opt/conda/lib/python3.11/site-packages (from matplotlib) (2.8.2)\n",
      "Requirement already satisfied: six>=1.5 in /opt/conda/lib/python3.11/site-packages (from python-dateutil>=2.7->matplotlib) (1.16.0)\n",
      "Note: you may need to restart the kernel to use updated packages.\n"
     ]
    }
   ],
   "source": [
    "pip install matplotlib"
   ]
  },
  {
   "cell_type": "code",
   "execution_count": 21,
   "id": "de1d4f22-eb57-414e-b2b0-12d0a03331ec",
   "metadata": {},
   "outputs": [
    {
     "data": {
      "text/plain": [
       "[<matplotlib.lines.Line2D at 0x7fe9d2800910>]"
      ]
     },
     "execution_count": 21,
     "metadata": {},
     "output_type": "execute_result"
    },
    {
     "data": {
      "image/png": "[encoded data removed]",
      "text/plain": [
       "<Figure size 640x480 with 1 Axes>"
      ]
     },
     "metadata": {},
     "output_type": "display_data"
    }
   ],
   "source": [
    "from sklearn.datasets import load_breast_cancer\n",
    "from sklearn.model_selection import train_test_split\n",
    "from sklearn.neural_network import MLPClassifier\n",
    "from sklearn.preprocessing import StandardScaler\n",
    "import matplotlib.pyplot as plt\n",
    "import numpy as np\n",
    "import pandas as pd\n",
    "\n",
    "panda_box = load_breast_cancer()\n",
    "X = panda_box.data\n",
    "y = panda_box.target\n",
    "X_train, X_test, y_train, y_test = train_test_split(X, y, test_size = 0.25, stratify=y, random_state=0)\n",
    "\n",
    "scaler = StandardScaler()\n",
    "X_train_scaled = scaler.fit_transform(X_train)\n",
    "X_test_scaled = scaler.transform(X_test)\n",
    "\n",
    "clf = MLPClassifier(max_iter=1000).fit(X_train_scaled,y_train)\n",
    "\n",
    "score_array = []\n",
    "for i in range(0, 20):\n",
    "  clf.fit(X_train_scaled,y_train)\n",
    "  score_array.append(clf.score(X_test_scaled, y_test))\n",
    "\n",
    "plt.plot(score_array)"
   ]
  },
  {
   "cell_type": "code",
   "execution_count": 28,
   "id": "4b8b959e-9c31-4403-9991-834b54b729f8",
   "metadata": {},
   "outputs": [
    {
     "name": "stdout",
     "output_type": "stream",
     "text": [
      "float64\n"
     ]
    }
   ],
   "source": [
    "import pandas as pd\n",
    "\n",
    "# CSVファイルを読み込む\n",
    "VE_data = pd.read_csv('./csv/vvc_eval.csv', header=None)\n",
    "\n",
    "# 列ごとにデータ型を変換\n",
    "VE_data = VE_data.apply(pd.to_numeric, errors='coerce')\n",
    "\n",
    "# NumPy配列に変換\n",
    "VE_data_array = VE_data.to_numpy()\n",
    "\n",
    "# データ型を確認\n",
    "print(VE_data_array.dtype)\n"
   ]
  },
  {
   "cell_type": "code",
   "execution_count": 24,
   "id": "d8d75589-0495-405e-9ae7-12f8660f1d1a",
   "metadata": {},
   "outputs": [
    {
     "name": "stdout",
     "output_type": "stream",
     "text": [
      "[[ 20.      0.     13.333 ...  66.666   0.      0.   ]\n",
      " [  0.      0.     16.666 ...  66.666   0.    216.666]\n",
      " [  0.      0.     33.333 ...  66.666   0.      0.   ]\n",
      " ...\n",
      " [ 45.      0.      0.    ...  55.      0.      0.   ]\n",
      " [  0.      0.      0.    ...  50.      0.     50.   ]\n",
      " [  0.     11.111   0.    ...   0.     44.444   0.   ]]\n"
     ]
    }
   ],
   "source": [
    "print(VE_data_array)"
   ]
  },
  {
   "cell_type": "code",
   "execution_count": 39,
   "id": "b9d38af8-aa19-49ba-881d-e0d97d11ea5d",
   "metadata": {},
   "outputs": [
    {
     "name": "stdout",
     "output_type": "stream",
     "text": [
      "float64\n",
      "float64\n"
     ]
    }
   ],
   "source": [
    "VF_data = pd.read_csv('./csv/vvc_feat.csv', header=None).to_numpy()\n",
    "VE_data = pd.read_csv('./csv/vvc_eval.csv', header=None).to_numpy()\n",
    "VF_train, VF_test, VE_train, VE_test = train_test_split(VF_data, VE_data, test_size=0.2, random_state=42)\n",
    "\n",
    "OF_data = pd.read_csv('./csv/ogvc_feat.csv', header=None).to_numpy()\n",
    "OE_data = pd.read_csv('./csv/ogvc_eval.csv', header=None).to_numpy()\n",
    "\n",
    "print(VF_train.dtype)\n",
    "\n",
    "scaler = StandardScaler()\n",
    "VF_train = scaler.fit_transform(VF_train)\n",
    "VF_test = scaler.transform(VF_test)\n",
    "\n",
    "print(VF_train.dtype)"
   ]
  },
  {
   "cell_type": "code",
   "execution_count": null,
   "id": "d7459d6c-f615-4b64-b310-cb8d3b696644",
   "metadata": {},
   "outputs": [],
   "source": []
  }
 ],
 "metadata": {
  "kernelspec": {
   "display_name": "Python 3 (ipykernel)",
   "language": "python",
   "name": "python3"
  },
  "language_info": {
   "codemirror_mode": {
    "name": "ipython",
    "version": 3
   },
   "file_extension": ".py",
   "mimetype": "text/x-python",
   "name": "python",
   "nbconvert_exporter": "python",
   "pygments_lexer": "ipython3",
   "version": "3.11.7"
  }
 },
 "nbformat": 4,
 "nbformat_minor": 5
}
