{
 "cells": [
  {
   "cell_type": "code",
   "execution_count": null,
   "id": "727808d6-5896-4d19-956d-013864834b0a",
   "metadata": {},
   "outputs": [],
   "source": [
    "from sklearn.model_selection import train_test_split\n",
    "from sklearn.neural_network import MLPClassifier\n",
    "from sklearn.metrics import precision_score, recall_score, f1_score\n",
    "import numpy as np\n",
    "import pandas as pd\n",
    "import random"
   ]
  },
  {
   "cell_type": "code",
   "execution_count": null,
   "id": "042f366b-b7ed-41eb-a120-48ab5faf9feb",
   "metadata": {},
   "outputs": [],
   "source": [
    "def load_data(file_path):\n",
    "    return pd.read_csv(file_path)\n",
    "\n",
    "def evaluater(y_test, y_pred):\n",
    "    precision = precision_score(y_test, y_pred, average=None, labels=np.unique(y_pred))\n",
    "    recall = recall_score(y_test, y_pred, average=None, labels=np.unique(y_pred))\n",
    "    f1 = f1_score(y_test, y_pred, average=None, labels=np.unique(y_pred))\n",
    "\n",
    "    return precision, recall, f1\n"
   ]
  },
  {
   "cell_type": "code",
   "execution_count": null,
   "id": "dca5ad51-b0c4-40be-b41c-10b48db10612",
   "metadata": {},
   "outputs": [],
   "source": [
    "# CSVファイルの読み込み\n",
    "VF_df = load_data('./csv/VVC_feats.csv')\n",
    "VL_df = load_data('./csv/VVC_labels.csv')\n",
    "OF_df = load_data('./csv/OGVC_feats.csv')\n",
    "OL_df = load_data('./csv/OGVC_labels.csv')\n",
    "\n",
    "# データを特徴量とターゲットに分割\n",
    "X = OF_df\n",
    "y = OL_df.iloc[:, 0]\n",
    "X2 = VF_df\n",
    "y2 = VL_df.iloc[:, 0]\n",
    "\n",
    "seed_num = random.randint(1,1000)\n",
    "all_performs = []"
   ]
  },
  {
   "cell_type": "code",
   "execution_count": null,
   "id": "011e063b-b227-4dc0-b2cd-5196165b0a27",
   "metadata": {},
   "outputs": [],
   "source": [
    "for i in range(10):\n",
    "    # データを訓練セットとテストセットに分割\n",
    "    X_sample, _, y_sample, _ = train_test_split(X, y, train_size=1200, random_state=seed_num+i)\n",
    "    X_train, X_test1, y_train, y_test1 = train_test_split(X_sample, y_sample, train_size=1000, random_state=seed_num+i)\n",
    "    _, X_test2, _, y_test2 = train_test_split(X2, y2, test_size=1000, random_state=seed_num+i)\n",
    "\n",
    "    # モデルの訓練\n",
    "    #clf = MLPClassifier(hidden_layer_sizes=(3000,10000,10000,10000,3000), max_iter=50000, random_state=seed_num+i)\n",
    "    clf = MLPClassifier(hidden_layer_sizes=(100,200,100), max_iter=2000, random_state=seed_num+i)\n",
    "    clf.fit(X_train, y_train)\n",
    "\n",
    "    # テストデータでの予測\n",
    "    y_pred1 = clf.predict(X_test1)\n",
    "    y_pred2 = clf.predict(X_test2)\n",
    "\n",
    "    # 各クラスに対する精度、再現率、F1スコアを計算\n",
    "    precision_1, recall_1, f1_1 = evaluater(y_test1, y_pred1)\n",
    "    precision_2, recall_2, f1_2 = evaluater(y_test2, y_pred2)\n",
    "\n",
    "    # 結果をDataFrameにまとめる\n",
    "    classes = np.unique(y_pred1)\n",
    "    performance_df = pd.DataFrame({'Class': classes, 'Precision_own': precision_1, 'Recall_own': recall_1, 'F1 Score_own': f1_1, 'Precision_your': precision_2, 'Recall_your': recall_2, 'F1 Score_your': f1_2})\n",
    "    performance_df.set_index('Class', inplace=True)\n",
    "    performance_df.sort_index(inplace=True)\n",
    "\n",
    "    all_performs.append(performance_df)"
   ]
  },
  {
   "cell_type": "code",
   "execution_count": null,
   "id": "d1926959-f438-4cd6-a81d-122d1e27d52f",
   "metadata": {},
   "outputs": [],
   "source": [
    "combined_df = pd.concat(all_performs)\n",
    "average_performance = combined_df.groupby(combined_df.index).mean()\n",
    "\n",
    "average_performance"
   ]
  }
 ],
 "metadata": {
  "kernelspec": {
   "display_name": "Python 3 (ipykernel)",
   "language": "python",
   "name": "python3"
  },
  "language_info": {
   "codemirror_mode": {
    "name": "ipython",
    "version": 3
   },
   "file_extension": ".py",
   "mimetype": "text/x-python",
   "name": "python",
   "nbconvert_exporter": "python",
   "pygments_lexer": "ipython3",
   "version": "3.11.7"
  }
 },
 "nbformat": 4,
 "nbformat_minor": 5
}
