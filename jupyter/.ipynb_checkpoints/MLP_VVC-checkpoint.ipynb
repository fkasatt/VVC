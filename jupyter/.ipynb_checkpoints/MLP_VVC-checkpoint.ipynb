{
 "cells": [
  {
   "cell_type": "code",
   "execution_count": 2,
   "id": "877f18b2-b012-4517-94dd-dfe163d7d989",
   "metadata": {},
   "outputs": [],
   "source": [
    "from sklearn.model_selection import train_test_split\n",
    "from sklearn.neural_network import MLPClassifier\n",
    "from sklearn.metrics import precision_score, recall_score, f1_score\n",
    "import numpy as np\n",
    "import pandas as pd"
   ]
  },
  {
   "cell_type": "code",
   "execution_count": 3,
   "id": "269a6c2f-aa0a-4e20-8698-0118ebd18128",
   "metadata": {},
   "outputs": [],
   "source": [
    "def load_data(file_path):\n",
    "    return pd.read_csv(file_path)\n",
    "\n",
    "def evaluater(y_test, y_pred):\n",
    "    precision = precision_score(y_test, y_pred, average=None, labels=np.unique(y_pred))\n",
    "    recall = recall_score(y_test, y_pred, average=None, labels=np.unique(y_pred))\n",
    "    f1 = f1_score(y_test, y_pred, average=None, labels=np.unique(y_pred))\n",
    "    return precision, recall, f1"
   ]
  },
  {
   "cell_type": "code",
   "execution_count": 5,
   "id": "0f2759e7-5c2d-478b-b0c1-1906669713c4",
   "metadata": {},
   "outputs": [],
   "source": [
    "classes = ['ANG', 'FEA', 'JOY', 'SAD']\n",
    "all_performs = []\n",
    "\n",
    "F1_df = load_data('./csv/VVC_feats.csv')\n",
    "L1_df = load_data('./csv/VVC_labels.csv')\n",
    "F2_df = load_data('./csv/OGVC_feats.csv')\n",
    "L2_df = load_data('./csv/OGVC_labels.csv')\n",
    "\n",
    "X_test2 = F2_df\n",
    "y_test2 = L2_df.iloc[:, 0]\n",
    "\n",
    "data = pd.concat([F1_df, L1_df], axis=1)"
   ]
  },
  {
   "cell_type": "code",
   "execution_count": null,
   "id": "d1626eea-101f-4877-8e2c-cc03c48e8ee8",
   "metadata": {},
   "outputs": [],
   "source": [
    "for i in range(10):\n",
    "    X_train = pd.DataFrame()\n",
    "    y_train = pd.DataFrame()\n",
    "    X_test = pd.DataFrame()\n",
    "    y_test = pd.DataFrame()\n",
    "\n",
    "    for cls in classes:\n",
    "        class_data = data[data['label'] == cls]\n",
    "        train_class_data = class_data.sample(n=100)\n",
    "        test_class_data = class_data.drop(train_class_data.index).sample(n=40)\n",
    "        train_data = pd.concat([train_data, train_class_data], ignore_index=True)\n",
    "        test_data = pd.concat([test_data, test_class_data], ignore_index=True)\n",
    "\n",
    "    X_train = train_data.drop('label', axis=1)\n",
    "    y_train = train_data['lavel']\n",
    "    X_test1 = test_data.drop('label', axis=1)\n",
    "    y_test1 = test_data['label']\n",
    "\n",
    "    clf = MLPClassifier(hidden_layer_sizes=(300,300,300), max_iter=5000, random_state=42)\n",
    "    clf.fit(X_train, y_train)\n",
    "\n",
    "    y_pred1 = clf.predict(X_test1)\n",
    "    y_pred1 = clf.predict(X_test2)\n",
    "\n",
    "\n",
    "    precision_1, recall_1, f1_1= evaluater(y_test1, y_pred1)\n",
    "    precision_2, recall_2, f1_2= evaluater(y_test2, y_pred2)\n",
    "\n",
    "    performs_df = pd.DataFrame({'Class': classes, 'Precision_own': precision_1, 'Recall_own': recall_1, 'F1 Score_own': f1_1, 'Precision_your': precision_2, 'Recall_your': recall_2, 'F1 Score_your': f1_2})\n",
    "    performs_df.set_index('Class', inplace=True)\n",
    "    performs_df.sort_index(inplace=True)\n",
    "\n",
    "    all_performs.append(performs_df)"
   ]
  },
  {
   "cell_type": "code",
   "execution_count": null,
   "id": "51ad9d73-c749-474c-8269-8d5d494417a4",
   "metadata": {},
   "outputs": [],
   "source": [
    "combined_df = pd.concat(all_performs)\n",
    "average_performance = combined_df.groupby(combined_df.index).mean()\n",
    "average_performance"
   ]
  }
 ],
 "metadata": {
  "kernelspec": {
   "display_name": "Python 3 (ipykernel)",
   "language": "python",
   "name": "python3"
  },
  "language_info": {
   "codemirror_mode": {
    "name": "ipython",
    "version": 3
   },
   "file_extension": ".py",
   "mimetype": "text/x-python",
   "name": "python",
   "nbconvert_exporter": "python",
   "pygments_lexer": "ipython3",
   "version": "3.11.7"
  }
 },
 "nbformat": 4,
 "nbformat_minor": 5
}
